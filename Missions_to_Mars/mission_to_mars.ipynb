{
 "cells": [
  {
   "cell_type": "code",
   "execution_count": 1,
   "id": "412b9532",
   "metadata": {},
   "outputs": [],
   "source": [
    "from bs4 import BeautifulSoup\n",
    "from splinter import Browser\n",
    "from webdriver_manager.chrome import ChromeDriverManager\n",
    "import requests\n",
    "import pandas as pd"
   ]
  },
  {
   "cell_type": "code",
   "execution_count": 36,
   "id": "31748d1f",
   "metadata": {},
   "outputs": [
    {
     "name": "stderr",
     "output_type": "stream",
     "text": [
      "\n",
      "\n",
      "====== WebDriver manager ======\n",
      "Current google-chrome version is 93.0.4577\n",
      "Get LATEST driver version for 93.0.4577\n",
      "Driver [C:\\Users\\eki326\\.wdm\\drivers\\chromedriver\\win32\\93.0.4577.63\\chromedriver.exe] found in cache\n"
     ]
    }
   ],
   "source": [
    "executable_path = {'executable_path': ChromeDriverManager().install()}\n",
    "browser = Browser('chrome', **executable_path, headless=False)"
   ]
  },
  {
   "cell_type": "markdown",
   "id": "e612ce12",
   "metadata": {},
   "source": [
    "### Scrape Mars News"
   ]
  },
  {
   "cell_type": "code",
   "execution_count": 3,
   "id": "0673588d",
   "metadata": {},
   "outputs": [],
   "source": [
    "# Open site with splinter\n",
    "news_url = 'https://redplanetscience.com'\n",
    "browser.visit(news_url)\n",
    "html = browser.html\n",
    "soup = BeautifulSoup(html, \"html.parser\")"
   ]
  },
  {
   "cell_type": "code",
   "execution_count": 4,
   "id": "e01e160c",
   "metadata": {},
   "outputs": [],
   "source": [
    "# Scrape news titles and paragraph text as variables\n",
    "news_title = soup.find('div', class_='content_title').text\n",
    "news_p = soup.find('div', class_='article_teaser_body').text"
   ]
  },
  {
   "cell_type": "markdown",
   "id": "cd15a081",
   "metadata": {},
   "source": [
    "### Scrape Featured Mars Image"
   ]
  },
  {
   "cell_type": "code",
   "execution_count": null,
   "id": "73635fcd",
   "metadata": {},
   "outputs": [],
   "source": [
    "# Open site with splinter\n",
    "image_url = 'https://spaceimages-mars.com/'\n",
    "browser.visit(image_url)\n",
    "html = browser.html\n",
    "soup = BeautifulSoup(html, \"html.parser\")"
   ]
  },
  {
   "cell_type": "code",
   "execution_count": null,
   "id": "89f3fabd",
   "metadata": {},
   "outputs": [],
   "source": [
    "# Find relative path to image\n",
    "relative_path = soup.find('img', class_='headerimage fade-in')['src']"
   ]
  },
  {
   "cell_type": "code",
   "execution_count": null,
   "id": "ccd79d45",
   "metadata": {},
   "outputs": [],
   "source": [
    "# Create full path to image\n",
    "featured_image_url = image_url+relative_path"
   ]
  },
  {
   "cell_type": "markdown",
   "id": "94b3ffd7",
   "metadata": {},
   "source": [
    "### Scrape Mars Facts Table"
   ]
  },
  {
   "cell_type": "code",
   "execution_count": 32,
   "id": "a55a4b31",
   "metadata": {},
   "outputs": [],
   "source": [
    "# Use Pandas to scrape Mars Facts table\n",
    "facts_url = 'https://galaxyfacts-mars.com/'\n",
    "# Capture first table\n",
    "table = pd.read_html(facts_url)[0]\n",
    "# Rename columns\n",
    "table.rename(columns={0:'Description', 1:'Mars', 2:'Earth'}, inplace = True)\n",
    "# Change index\n",
    "table.set_index('Description', inplace = True)\n",
    "# Convert to html\n",
    "mars_table = table.to_html()"
   ]
  },
  {
   "cell_type": "markdown",
   "id": "0b155b78",
   "metadata": {},
   "source": [
    "### Scrape High Res Images"
   ]
  },
  {
   "cell_type": "code",
   "execution_count": 34,
   "id": "aedbac2f",
   "metadata": {},
   "outputs": [],
   "source": [
    "# Set home page as variable\n",
    "base_url = 'https://marshemispheres.com/'\n",
    "# Create list of hemisphere links to open with splinter\n",
    "pages = ['cerberus.html', 'schiaparelli.html', 'syrtis.html', 'valles.html']\n",
    "# Create list to hold title and url\n",
    "hemisphere_image_urls = []"
   ]
  },
  {
   "cell_type": "code",
   "execution_count": 37,
   "id": "8cd52ee7",
   "metadata": {},
   "outputs": [],
   "source": [
    "# Loop through list of hemisphere pages and scrape Title and Image URL\n",
    "for page in pages:\n",
    "    hemi_page = base_url+page\n",
    "    browser.visit(hemi_page)\n",
    "    html = browser.html\n",
    "    soup = BeautifulSoup(html, \"html.parser\")\n",
    "    title = soup.find('h2', class_='title').text\n",
    "    downloads = soup.find('div', class_='downloads')\n",
    "    relative_url = downloads.find('a')['href']\n",
    "    img_url = base_url+relative_url\n",
    "    hemisphere_image_urls.append({'title':title, 'img_url':img_url})"
   ]
  },
  {
   "cell_type": "code",
   "execution_count": 38,
   "id": "18099690",
   "metadata": {},
   "outputs": [
    {
     "data": {
      "text/plain": [
       "[{'title': 'Cerberus Hemisphere Enhanced',\n",
       "  'img_url': 'https://marshemispheres.com/images/full.jpg'},\n",
       " {'title': 'Schiaparelli Hemisphere Enhanced',\n",
       "  'img_url': 'https://marshemispheres.com/images/schiaparelli_enhanced-full.jpg'},\n",
       " {'title': 'Syrtis Major Hemisphere Enhanced',\n",
       "  'img_url': 'https://marshemispheres.com/images/syrtis_major_enhanced-full.jpg'},\n",
       " {'title': 'Valles Marineris Hemisphere Enhanced',\n",
       "  'img_url': 'https://marshemispheres.com/images/valles_marineris_enhanced-full.jpg'}]"
      ]
     },
     "execution_count": 38,
     "metadata": {},
     "output_type": "execute_result"
    }
   ],
   "source": [
    "hemisphere_image_urls"
   ]
  },
  {
   "cell_type": "code",
   "execution_count": null,
   "id": "01386f26",
   "metadata": {},
   "outputs": [],
   "source": []
  }
 ],
 "metadata": {
  "kernelspec": {
   "display_name": "Python 3",
   "language": "python",
   "name": "python3"
  },
  "language_info": {
   "codemirror_mode": {
    "name": "ipython",
    "version": 3
   },
   "file_extension": ".py",
   "mimetype": "text/x-python",
   "name": "python",
   "nbconvert_exporter": "python",
   "pygments_lexer": "ipython3",
   "version": "3.8.8"
  }
 },
 "nbformat": 4,
 "nbformat_minor": 5
}
